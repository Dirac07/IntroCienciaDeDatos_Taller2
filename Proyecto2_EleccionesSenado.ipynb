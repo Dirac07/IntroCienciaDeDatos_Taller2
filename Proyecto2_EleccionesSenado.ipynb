{
  "nbformat": 4,
  "nbformat_minor": 0,
  "metadata": {
    "colab": {
      "name": "Proyecto2_EleccionesSenado.ipynb",
      "provenance": [],
      "collapsed_sections": [
        "NIhMBJ1BcslK",
        "Q5JJAQshcsKJ"
      ]
    },
    "kernelspec": {
      "name": "python3",
      "display_name": "Python 3"
    },
    "language_info": {
      "name": "python"
    }
  },
  "cells": [
    {
      "cell_type": "markdown",
      "source": [
        "## Importación de las librerias necesarias"
      ],
      "metadata": {
        "id": "7gaIo9IZ9VHT"
      }
    },
    {
      "cell_type": "code",
      "execution_count": null,
      "metadata": {
        "id": "ud2yqrkR04qy"
      },
      "outputs": [],
      "source": [
        "import numpy as np\n",
        "import matplotlib.pyplot as plt\n",
        "import pandas as pd\n",
        "from glob import glob\n",
        "from tqdm import tqdm\n",
        "import sklearn.linear_model\n",
        "import sklearn.metrics "
      ]
    },
    {
      "cell_type": "markdown",
      "source": [
        "##Lectura de los datos"
      ],
      "metadata": {
        "id": "ZsFEsanyazQM"
      }
    },
    {
      "cell_type": "markdown",
      "source": [
        "### Lectura datos 2022"
      ],
      "metadata": {
        "id": "jk2Mnt8Yp7JX"
      }
    },
    {
      "cell_type": "code",
      "source": [
        "data2022 = pd.read_excel('drive/MyDrive/Proyecto2_CienciaDatos/2022.xlsx')"
      ],
      "metadata": {
        "id": "oR9T6vus7TPh"
      },
      "execution_count": null,
      "outputs": []
    },
    {
      "cell_type": "markdown",
      "source": [
        "Partidos relevantes\n"
      ],
      "metadata": {
        "id": "kvZrSjBpe8fa"
      }
    },
    {
      "cell_type": "code",
      "source": [
        "columns = ['DPTOS', 'PACTO HISTORICO', 'ALIANZA VERDE', 'CENTRO DEMOCRATICO',\n",
        "       'NUEVO LIBERALISMO', 'MIRA JUSTA LIBRES', 'PL', 'PC', 'CR',\n",
        "       'FUERZA CIUDADANA', 'LA U']\n",
        "\n",
        "partidos2022 = columns[1:]\n",
        "data2022.columns = columns"
      ],
      "metadata": {
        "id": "ZtYxxHVgzhx9"
      },
      "execution_count": null,
      "outputs": []
    },
    {
      "cell_type": "markdown",
      "source": [
        "Se definen las categorías ideológicas de los partidos y el diccionario de ideología asociada al partido"
      ],
      "metadata": {
        "id": "PY95r3jHe_na"
      }
    },
    {
      "cell_type": "code",
      "source": [
        "posMov = ['IZQUIERDA', 'CENTRO-IZQUIERDA', 'CENTRO', 'CENTRO-DERECHA', 'DERECHA']\n",
        "posMov2022 = ['IZQUIERDA', 'CENTRO', 'CENTRO-DERECHA', 'CENTRO', 'DERECHA', 'CENTRO-DERECHA', 'CENTRO-DERECHA', 'CENTRO-DERECHA', \n",
        "              'CENTRO-IZQUIERDA', 'CENTRO']\n",
        "\n",
        "pos2022 = {}\n",
        "\n",
        "for i in range(len(partidos2022)):\n",
        "  pos2022[partidos2022[i]] = posMov2022[i]"
      ],
      "metadata": {
        "id": "BRENouPb1TJ8"
      },
      "execution_count": null,
      "outputs": []
    },
    {
      "cell_type": "markdown",
      "source": [
        "A partir de los datos iniciales se procede a crear el archivo *data2022.csv* con el conteo de votos totales por ideología para las elecciones al Senado de 2022."
      ],
      "metadata": {
        "id": "dR-XI32cmGbk"
      }
    },
    {
      "cell_type": "code",
      "source": [
        "for movimiento in posMov:\n",
        "  data2022[movimiento] = np.zeros(len(data2022))"
      ],
      "metadata": {
        "id": "hlrRhDr21TKF"
      },
      "execution_count": null,
      "outputs": []
    },
    {
      "cell_type": "code",
      "source": [
        "data2022 = data2022.set_index(['DPTOS'])"
      ],
      "metadata": {
        "id": "Pi0fpRkf2uCv"
      },
      "execution_count": null,
      "outputs": []
    },
    {
      "cell_type": "markdown",
      "source": [
        "Se contabiliza total votos por partido y departamento\n"
      ],
      "metadata": {
        "id": "bPpS-q52fJHH"
      }
    },
    {
      "cell_type": "code",
      "source": [
        "for dpto in data2022.index:\n",
        "  for part in partidos2022:\n",
        "    data2022[pos2022[part]][dpto] = int(data2022[pos2022[part]][dpto]) + int(data2022[part][dpto])"
      ],
      "metadata": {
        "id": "-7Vsv6wq2uCw"
      },
      "execution_count": null,
      "outputs": []
    },
    {
      "cell_type": "code",
      "source": [
        "data2022 = data2022.drop(partidos2022, axis=1)"
      ],
      "metadata": {
        "id": "NY2aJTY52uCw"
      },
      "execution_count": null,
      "outputs": []
    },
    {
      "cell_type": "code",
      "source": [
        "data2022.to_csv('drive/MyDrive/Proyecto2_CienciaDatos/data2022.csv')"
      ],
      "metadata": {
        "id": "f-1GX-Rz2uCx"
      },
      "execution_count": null,
      "outputs": []
    },
    {
      "cell_type": "markdown",
      "source": [
        "### Lectura datos 2018"
      ],
      "metadata": {
        "id": "fORUhLJJatkE"
      }
    },
    {
      "cell_type": "markdown",
      "source": [
        "Se carga los datos de elecciones al Senado 2018\n"
      ],
      "metadata": {
        "id": "YDQ8KO8VfNMA"
      }
    },
    {
      "cell_type": "code",
      "source": [
        "data = pd.read_csv('drive/MyDrive/Proyecto2_CienciaDatos/2018.csv')"
      ],
      "metadata": {
        "id": "NI8Q3UOh1UhP"
      },
      "execution_count": null,
      "outputs": []
    },
    {
      "cell_type": "markdown",
      "source": [
        "Se agrupan los partidos e ideologías"
      ],
      "metadata": {
        "id": "DmWUQjsafV_m"
      }
    },
    {
      "cell_type": "code",
      "source": [
        "partidos = np.unique(data['partido'].dropna())\n",
        "\n",
        "id_partido = ['IZQUIERDA', 'IZQUIERDA', 'DERECHA', 'CENTRO', 'DERECHA', 'IZQUIERDA', 'CENTRO-IZQUIERDA', 'IZQUIERDA', \n",
        "              'IZQUIERDA', 'CENTRO-IZQUIERDA', 'CENTRO-IZQUIERDA', 'CENTRO', 'DERECHA', 'CENTRO-DERECHA', 'CENTRO-DERECHA',\n",
        "              'IZQUIERDA', 'CENTRO-DERECHA', 'DERECHA', 'CENTRO-IZQUIERDA', 'DERECHA', 'CENTRO-DERECHA', 'DERECHA', 'IZQUIERDA']\n",
        "\n",
        "pos = {}\n",
        "for i in range(len(partidos)):\n",
        "  pos[partidos[i]] = id_partido[i] \n",
        "\n",
        "pos[(np.array(data['partido']))[0]] = (np.array(data['partido']))[0]        "
      ],
      "metadata": {
        "id": "RGgerifTQY6h"
      },
      "execution_count": null,
      "outputs": []
    },
    {
      "cell_type": "code",
      "source": [
        "data['pos'] = [pos[x] for x in data['partido']]"
      ],
      "metadata": {
        "id": "hUaC-iQiXQxy"
      },
      "execution_count": null,
      "outputs": []
    },
    {
      "cell_type": "markdown",
      "source": [
        "Se filtran grupos irrelevantes\n"
      ],
      "metadata": {
        "id": "qS2DBuwnfaEn"
      }
    },
    {
      "cell_type": "code",
      "source": [
        "data2018 = data.drop(['ZZ', 'PP', 'mesa'], axis=1)\n",
        "data2018 = data2018.groupby(['NDepto', 'pos']).sum()"
      ],
      "metadata": {
        "id": "LHc2B0XQDaBh"
      },
      "execution_count": null,
      "outputs": []
    },
    {
      "cell_type": "markdown",
      "source": [
        "Se toma a Chocó como ejemplo de condensar estos datos"
      ],
      "metadata": {
        "id": "83uAav3Dhnis"
      }
    },
    {
      "cell_type": "code",
      "source": [
        "data2018.loc['CHOCO'].sort_values(by='votos', ascending=False)"
      ],
      "metadata": {
        "colab": {
          "base_uri": "https://localhost:8080/",
          "height": 238
        },
        "id": "1T7hMXusDz-g",
        "outputId": "276e486e-07c3-4e15-ea6d-98a5675e86f0"
      },
      "execution_count": null,
      "outputs": [
        {
          "output_type": "execute_result",
          "data": {
            "text/plain": [
              "                  votos\n",
              "pos                    \n",
              "CENTRO-DERECHA    73170\n",
              "DERECHA           23995\n",
              "IZQUIERDA         11102\n",
              "CENTRO             9855\n",
              "CENTRO-IZQUIERDA   2895"
            ],
            "text/html": [
              "\n",
              "  <div id=\"df-3487592b-bd85-4f84-8aa0-49929ab5fc04\">\n",
              "    <div class=\"colab-df-container\">\n",
              "      <div>\n",
              "<style scoped>\n",
              "    .dataframe tbody tr th:only-of-type {\n",
              "        vertical-align: middle;\n",
              "    }\n",
              "\n",
              "    .dataframe tbody tr th {\n",
              "        vertical-align: top;\n",
              "    }\n",
              "\n",
              "    .dataframe thead th {\n",
              "        text-align: right;\n",
              "    }\n",
              "</style>\n",
              "<table border=\"1\" class=\"dataframe\">\n",
              "  <thead>\n",
              "    <tr style=\"text-align: right;\">\n",
              "      <th></th>\n",
              "      <th>votos</th>\n",
              "    </tr>\n",
              "    <tr>\n",
              "      <th>pos</th>\n",
              "      <th></th>\n",
              "    </tr>\n",
              "  </thead>\n",
              "  <tbody>\n",
              "    <tr>\n",
              "      <th>CENTRO-DERECHA</th>\n",
              "      <td>73170</td>\n",
              "    </tr>\n",
              "    <tr>\n",
              "      <th>DERECHA</th>\n",
              "      <td>23995</td>\n",
              "    </tr>\n",
              "    <tr>\n",
              "      <th>IZQUIERDA</th>\n",
              "      <td>11102</td>\n",
              "    </tr>\n",
              "    <tr>\n",
              "      <th>CENTRO</th>\n",
              "      <td>9855</td>\n",
              "    </tr>\n",
              "    <tr>\n",
              "      <th>CENTRO-IZQUIERDA</th>\n",
              "      <td>2895</td>\n",
              "    </tr>\n",
              "  </tbody>\n",
              "</table>\n",
              "</div>\n",
              "      <button class=\"colab-df-convert\" onclick=\"convertToInteractive('df-3487592b-bd85-4f84-8aa0-49929ab5fc04')\"\n",
              "              title=\"Convert this dataframe to an interactive table.\"\n",
              "              style=\"display:none;\">\n",
              "        \n",
              "  <svg xmlns=\"http://www.w3.org/2000/svg\" height=\"24px\"viewBox=\"0 0 24 24\"\n",
              "       width=\"24px\">\n",
              "    <path d=\"M0 0h24v24H0V0z\" fill=\"none\"/>\n",
              "    <path d=\"M18.56 5.44l.94 2.06.94-2.06 2.06-.94-2.06-.94-.94-2.06-.94 2.06-2.06.94zm-11 1L8.5 8.5l.94-2.06 2.06-.94-2.06-.94L8.5 2.5l-.94 2.06-2.06.94zm10 10l.94 2.06.94-2.06 2.06-.94-2.06-.94-.94-2.06-.94 2.06-2.06.94z\"/><path d=\"M17.41 7.96l-1.37-1.37c-.4-.4-.92-.59-1.43-.59-.52 0-1.04.2-1.43.59L10.3 9.45l-7.72 7.72c-.78.78-.78 2.05 0 2.83L4 21.41c.39.39.9.59 1.41.59.51 0 1.02-.2 1.41-.59l7.78-7.78 2.81-2.81c.8-.78.8-2.07 0-2.86zM5.41 20L4 18.59l7.72-7.72 1.47 1.35L5.41 20z\"/>\n",
              "  </svg>\n",
              "      </button>\n",
              "      \n",
              "  <style>\n",
              "    .colab-df-container {\n",
              "      display:flex;\n",
              "      flex-wrap:wrap;\n",
              "      gap: 12px;\n",
              "    }\n",
              "\n",
              "    .colab-df-convert {\n",
              "      background-color: #E8F0FE;\n",
              "      border: none;\n",
              "      border-radius: 50%;\n",
              "      cursor: pointer;\n",
              "      display: none;\n",
              "      fill: #1967D2;\n",
              "      height: 32px;\n",
              "      padding: 0 0 0 0;\n",
              "      width: 32px;\n",
              "    }\n",
              "\n",
              "    .colab-df-convert:hover {\n",
              "      background-color: #E2EBFA;\n",
              "      box-shadow: 0px 1px 2px rgba(60, 64, 67, 0.3), 0px 1px 3px 1px rgba(60, 64, 67, 0.15);\n",
              "      fill: #174EA6;\n",
              "    }\n",
              "\n",
              "    [theme=dark] .colab-df-convert {\n",
              "      background-color: #3B4455;\n",
              "      fill: #D2E3FC;\n",
              "    }\n",
              "\n",
              "    [theme=dark] .colab-df-convert:hover {\n",
              "      background-color: #434B5C;\n",
              "      box-shadow: 0px 1px 3px 1px rgba(0, 0, 0, 0.15);\n",
              "      filter: drop-shadow(0px 1px 2px rgba(0, 0, 0, 0.3));\n",
              "      fill: #FFFFFF;\n",
              "    }\n",
              "  </style>\n",
              "\n",
              "      <script>\n",
              "        const buttonEl =\n",
              "          document.querySelector('#df-3487592b-bd85-4f84-8aa0-49929ab5fc04 button.colab-df-convert');\n",
              "        buttonEl.style.display =\n",
              "          google.colab.kernel.accessAllowed ? 'block' : 'none';\n",
              "\n",
              "        async function convertToInteractive(key) {\n",
              "          const element = document.querySelector('#df-3487592b-bd85-4f84-8aa0-49929ab5fc04');\n",
              "          const dataTable =\n",
              "            await google.colab.kernel.invokeFunction('convertToInteractive',\n",
              "                                                     [key], {});\n",
              "          if (!dataTable) return;\n",
              "\n",
              "          const docLinkHtml = 'Like what you see? Visit the ' +\n",
              "            '<a target=\"_blank\" href=https://colab.research.google.com/notebooks/data_table.ipynb>data table notebook</a>'\n",
              "            + ' to learn more about interactive tables.';\n",
              "          element.innerHTML = '';\n",
              "          dataTable['output_type'] = 'display_data';\n",
              "          await google.colab.output.renderOutput(dataTable, element);\n",
              "          const docLink = document.createElement('div');\n",
              "          docLink.innerHTML = docLinkHtml;\n",
              "          element.appendChild(docLink);\n",
              "        }\n",
              "      </script>\n",
              "    </div>\n",
              "  </div>\n",
              "  "
            ]
          },
          "metadata": {},
          "execution_count": 309
        }
      ]
    },
    {
      "cell_type": "markdown",
      "source": [
        "Y finalmente, se guarda en un archivo csv\n"
      ],
      "metadata": {
        "id": "qybas-fChsCy"
      }
    },
    {
      "cell_type": "code",
      "source": [
        "data2018.to_csv('drive/MyDrive/Proyecto2_CienciaDatos/data2018.csv')"
      ],
      "metadata": {
        "id": "DF3mdbEqkaND"
      },
      "execution_count": null,
      "outputs": []
    },
    {
      "cell_type": "markdown",
      "source": [
        "### Lectura datos 2014"
      ],
      "metadata": {
        "id": "WqrAcOtfa7iD"
      }
    },
    {
      "cell_type": "markdown",
      "source": [
        "Cargar datos de elecciones al Senado 2014, el código cambió debido a que los datos estaban separados en un archivo para cada departamento\n",
        "\n"
      ],
      "metadata": {
        "id": "f9mcYq-xhw3t"
      }
    },
    {
      "cell_type": "code",
      "source": [
        "from glob import glob\n",
        "\n",
        "excel_files = glob('drive/MyDrive/Proyecto2_CienciaDatos/Senado2014/*')"
      ],
      "metadata": {
        "id": "0_oSRhM3a-HT"
      },
      "execution_count": null,
      "outputs": []
    },
    {
      "cell_type": "code",
      "source": [
        "data = pd.read_excel(excel_files[0])\n",
        "\n",
        "\n",
        "for i in tqdm(range(1,len(excel_files))):\n",
        "  i_data = pd.read_excel(excel_files[i]) \n",
        "  data = pd.concat([data, i_data])"
      ],
      "metadata": {
        "id": "UqooFt3uegr0"
      },
      "execution_count": null,
      "outputs": []
    },
    {
      "cell_type": "markdown",
      "source": [
        "Filtramos los campos erróneos y agrupamos nuevamente los partidos con sus ideologías"
      ],
      "metadata": {
        "id": "-00fTF2wh5Mj"
      }
    },
    {
      "cell_type": "code",
      "source": [
        "partidos2014 = np.unique(data['NOMBRE_PARTIDO'].dropna())\n",
        "\n",
        "id_partidos2014 = [np.nan, 'IZQUIERDA', 'IZQUIERDA', 'IZQUIERDA', 'IZQUIERDA', 'IZQUIERDA', 'CENTRO-DERECHA', 'IZQUIERDA', 'IZQUIERDA', 'IZQUIERDA', \n",
        "              'DERECHA', 'IZQUIERDA', 'CENTRO-IZQUIERDA', 'IZQUIERDA', 'CENTRO-IZQUIERDA', 'CENTRO-IZQUIERDA', 'CENTRO',\n",
        "              'CENTRO-DERECHA', 'CENTRO-DERECHA', 'CENTRO-DERECHA', 'CENTRO-DERECHA', 'DERECHA', 'IZQUIERDA', 'IZQUIERDA', 'IZQUIERDA', 'IZQUIERDA',\n",
        "              'IZQUIERDA', 'IZQUIERDA', 'IZQUIERDA', 'CENTRO-DERECHA', 'IZQUIERDA', 'IZQUIERDA', 'IZQUIERDA', 'IZQUIERDA', 'IZQUIERDA', 'DERECHA',\n",
        "              'IZQUIERDA', 'IZQUIERDA', 'CENTRO-IZQUIERDA', 'CENTRO', 'CENTRO-DERECHA', 'CENTRO-DERECHA', 'CENTRO-DERECHA', 'CENTRO-DERECHA', 'DERECHA', 'IZQUIERDA',\n",
        "              'IZQUIERDA']\n",
        "\n",
        "pos2014 = {}\n",
        "for i in range(len(partidos2014)):\n",
        "  pos2014[partidos2014[i]] = id_partidos2014[i] \n",
        "pos2014[np.nan] = np.nan"
      ],
      "metadata": {
        "id": "vloFKcXrjaJY"
      },
      "execution_count": null,
      "outputs": []
    },
    {
      "cell_type": "code",
      "source": [
        "data['pos'] = [pos2014[x] for x in data['NOMBRE_PARTIDO']]"
      ],
      "metadata": {
        "id": "oZjJABpcwxW9"
      },
      "execution_count": null,
      "outputs": []
    },
    {
      "cell_type": "markdown",
      "source": [
        "Se contabiliza ahora el total votos por ideología y departamento"
      ],
      "metadata": {
        "id": "-muNVlE3h_cA"
      }
    },
    {
      "cell_type": "code",
      "source": [
        "data2014 = data.groupby(['DEPARTAMENTO', 'pos']).sum()\n",
        "data2014 = data2014[['COD_CAND','VOTACION']]\n",
        "data2014 = data2014.drop(['COD_CAND'], axis=1)\n",
        "data2014['votos'] = data2014['VOTACION']\n",
        "data2014 = data2014.drop(['VOTACION'], axis=1)"
      ],
      "metadata": {
        "id": "z-zvhuAD1ZIu"
      },
      "execution_count": null,
      "outputs": []
    },
    {
      "cell_type": "markdown",
      "source": [
        "Y en este caso se pone al Valle de ejemplo"
      ],
      "metadata": {
        "id": "hrhca4yuiDxx"
      }
    },
    {
      "cell_type": "code",
      "source": [
        "data2014.loc['VALLE'].sort_values(by=['votos'], ascending=False)"
      ],
      "metadata": {
        "colab": {
          "base_uri": "https://localhost:8080/",
          "height": 238
        },
        "id": "ne7035JZ3Q3g",
        "outputId": "b330bd83-6609-4613-a96f-ce97f37af0b9"
      },
      "execution_count": null,
      "outputs": [
        {
          "output_type": "execute_result",
          "data": {
            "text/plain": [
              "                   votos\n",
              "pos                     \n",
              "CENTRO-DERECHA    709522\n",
              "DERECHA           110645\n",
              "IZQUIERDA          68850\n",
              "CENTRO             66957\n",
              "CENTRO-IZQUIERDA    3252"
            ],
            "text/html": [
              "\n",
              "  <div id=\"df-c9118bd4-249f-4e14-a0d1-c251539c4a48\">\n",
              "    <div class=\"colab-df-container\">\n",
              "      <div>\n",
              "<style scoped>\n",
              "    .dataframe tbody tr th:only-of-type {\n",
              "        vertical-align: middle;\n",
              "    }\n",
              "\n",
              "    .dataframe tbody tr th {\n",
              "        vertical-align: top;\n",
              "    }\n",
              "\n",
              "    .dataframe thead th {\n",
              "        text-align: right;\n",
              "    }\n",
              "</style>\n",
              "<table border=\"1\" class=\"dataframe\">\n",
              "  <thead>\n",
              "    <tr style=\"text-align: right;\">\n",
              "      <th></th>\n",
              "      <th>votos</th>\n",
              "    </tr>\n",
              "    <tr>\n",
              "      <th>pos</th>\n",
              "      <th></th>\n",
              "    </tr>\n",
              "  </thead>\n",
              "  <tbody>\n",
              "    <tr>\n",
              "      <th>CENTRO-DERECHA</th>\n",
              "      <td>709522</td>\n",
              "    </tr>\n",
              "    <tr>\n",
              "      <th>DERECHA</th>\n",
              "      <td>110645</td>\n",
              "    </tr>\n",
              "    <tr>\n",
              "      <th>IZQUIERDA</th>\n",
              "      <td>68850</td>\n",
              "    </tr>\n",
              "    <tr>\n",
              "      <th>CENTRO</th>\n",
              "      <td>66957</td>\n",
              "    </tr>\n",
              "    <tr>\n",
              "      <th>CENTRO-IZQUIERDA</th>\n",
              "      <td>3252</td>\n",
              "    </tr>\n",
              "  </tbody>\n",
              "</table>\n",
              "</div>\n",
              "      <button class=\"colab-df-convert\" onclick=\"convertToInteractive('df-c9118bd4-249f-4e14-a0d1-c251539c4a48')\"\n",
              "              title=\"Convert this dataframe to an interactive table.\"\n",
              "              style=\"display:none;\">\n",
              "        \n",
              "  <svg xmlns=\"http://www.w3.org/2000/svg\" height=\"24px\"viewBox=\"0 0 24 24\"\n",
              "       width=\"24px\">\n",
              "    <path d=\"M0 0h24v24H0V0z\" fill=\"none\"/>\n",
              "    <path d=\"M18.56 5.44l.94 2.06.94-2.06 2.06-.94-2.06-.94-.94-2.06-.94 2.06-2.06.94zm-11 1L8.5 8.5l.94-2.06 2.06-.94-2.06-.94L8.5 2.5l-.94 2.06-2.06.94zm10 10l.94 2.06.94-2.06 2.06-.94-2.06-.94-.94-2.06-.94 2.06-2.06.94z\"/><path d=\"M17.41 7.96l-1.37-1.37c-.4-.4-.92-.59-1.43-.59-.52 0-1.04.2-1.43.59L10.3 9.45l-7.72 7.72c-.78.78-.78 2.05 0 2.83L4 21.41c.39.39.9.59 1.41.59.51 0 1.02-.2 1.41-.59l7.78-7.78 2.81-2.81c.8-.78.8-2.07 0-2.86zM5.41 20L4 18.59l7.72-7.72 1.47 1.35L5.41 20z\"/>\n",
              "  </svg>\n",
              "      </button>\n",
              "      \n",
              "  <style>\n",
              "    .colab-df-container {\n",
              "      display:flex;\n",
              "      flex-wrap:wrap;\n",
              "      gap: 12px;\n",
              "    }\n",
              "\n",
              "    .colab-df-convert {\n",
              "      background-color: #E8F0FE;\n",
              "      border: none;\n",
              "      border-radius: 50%;\n",
              "      cursor: pointer;\n",
              "      display: none;\n",
              "      fill: #1967D2;\n",
              "      height: 32px;\n",
              "      padding: 0 0 0 0;\n",
              "      width: 32px;\n",
              "    }\n",
              "\n",
              "    .colab-df-convert:hover {\n",
              "      background-color: #E2EBFA;\n",
              "      box-shadow: 0px 1px 2px rgba(60, 64, 67, 0.3), 0px 1px 3px 1px rgba(60, 64, 67, 0.15);\n",
              "      fill: #174EA6;\n",
              "    }\n",
              "\n",
              "    [theme=dark] .colab-df-convert {\n",
              "      background-color: #3B4455;\n",
              "      fill: #D2E3FC;\n",
              "    }\n",
              "\n",
              "    [theme=dark] .colab-df-convert:hover {\n",
              "      background-color: #434B5C;\n",
              "      box-shadow: 0px 1px 3px 1px rgba(0, 0, 0, 0.15);\n",
              "      filter: drop-shadow(0px 1px 2px rgba(0, 0, 0, 0.3));\n",
              "      fill: #FFFFFF;\n",
              "    }\n",
              "  </style>\n",
              "\n",
              "      <script>\n",
              "        const buttonEl =\n",
              "          document.querySelector('#df-c9118bd4-249f-4e14-a0d1-c251539c4a48 button.colab-df-convert');\n",
              "        buttonEl.style.display =\n",
              "          google.colab.kernel.accessAllowed ? 'block' : 'none';\n",
              "\n",
              "        async function convertToInteractive(key) {\n",
              "          const element = document.querySelector('#df-c9118bd4-249f-4e14-a0d1-c251539c4a48');\n",
              "          const dataTable =\n",
              "            await google.colab.kernel.invokeFunction('convertToInteractive',\n",
              "                                                     [key], {});\n",
              "          if (!dataTable) return;\n",
              "\n",
              "          const docLinkHtml = 'Like what you see? Visit the ' +\n",
              "            '<a target=\"_blank\" href=https://colab.research.google.com/notebooks/data_table.ipynb>data table notebook</a>'\n",
              "            + ' to learn more about interactive tables.';\n",
              "          element.innerHTML = '';\n",
              "          dataTable['output_type'] = 'display_data';\n",
              "          await google.colab.output.renderOutput(dataTable, element);\n",
              "          const docLink = document.createElement('div');\n",
              "          docLink.innerHTML = docLinkHtml;\n",
              "          element.appendChild(docLink);\n",
              "        }\n",
              "      </script>\n",
              "    </div>\n",
              "  </div>\n",
              "  "
            ]
          },
          "metadata": {},
          "execution_count": 301
        }
      ]
    },
    {
      "cell_type": "markdown",
      "source": [
        "Y se guarda en archivo csv\n"
      ],
      "metadata": {
        "id": "VVDQbXjbiJRA"
      }
    },
    {
      "cell_type": "code",
      "source": [
        "data2014.to_csv('drive/MyDrive/Proyecto2_CienciaDatos/data2014.csv')"
      ],
      "metadata": {
        "id": "qeDYOULw3Rul"
      },
      "execution_count": null,
      "outputs": []
    },
    {
      "cell_type": "markdown",
      "source": [
        "### Lectura datos 2010"
      ],
      "metadata": {
        "id": "aNQZhNpb795b"
      }
    },
    {
      "cell_type": "markdown",
      "source": [
        "Se carga los datos de elecciones Senado 2010\n"
      ],
      "metadata": {
        "id": "svvOQWsQiMsY"
      }
    },
    {
      "cell_type": "code",
      "source": [
        "data = pd.read_excel('drive/MyDrive/Proyecto2_CienciaDatos/2010.xlsx')"
      ],
      "metadata": {
        "id": "sy50Wsob7-2w"
      },
      "execution_count": null,
      "outputs": []
    },
    {
      "cell_type": "markdown",
      "source": [
        "Se estandarizan los nombres de departamento para variables de texto y se arreglan los NaN\n"
      ],
      "metadata": {
        "id": "mTpuRDXyidLX"
      }
    },
    {
      "cell_type": "code",
      "source": [
        "data['Departamento'] = [str(x).upper().replace('Á', 'A').replace('Ó', 'O').replace('É', 'E').replace('Í', 'I').strip() for x in data['Departamento']]\n",
        "data = data.dropna()\n",
        "data = data.drop(['MAL', 'otros'], axis=1)"
      ],
      "metadata": {
        "id": "W938rClNOhKA"
      },
      "execution_count": null,
      "outputs": []
    },
    {
      "cell_type": "markdown",
      "source": [
        "Partidos presentes en las elecciones de 2010\n"
      ],
      "metadata": {
        "id": "OPyDpavtikL2"
      }
    },
    {
      "cell_type": "code",
      "source": [
        "partidos2010 = data.columns[1:-1]"
      ],
      "metadata": {
        "id": "F-UgtEfvTr9t"
      },
      "execution_count": null,
      "outputs": []
    },
    {
      "cell_type": "markdown",
      "source": [
        "Se define las categorías ideológicas según partido en las elecciones 2010\n"
      ],
      "metadata": {
        "id": "muvOvtlSinLE"
      }
    },
    {
      "cell_type": "code",
      "source": [
        "posMov = ['IZQUIERDA', 'CENTRO-IZQUIERDA', 'CENTRO', 'CENTRO-DERECHA', 'DERECHA']\n",
        "posMov2010 = ['CENTRO-DERECHA', 'CENTRO-DERECHA', 'CENTRO-DERECHA', 'CENTRO-DERECHA', 'DERECHA', 'IZQUIERDA', 'DERECHA', 'CENTRO', \n",
        "              'DERECHA', 'CENTRO-IZQUIERDA', ]\n",
        "pos2010 = {}\n",
        "\n",
        "for i in range(len(partidos2010)):\n",
        "  pos2010[partidos2010[i]] = posMov2010[i]"
      ],
      "metadata": {
        "id": "9K8LWwL_TbCU"
      },
      "execution_count": null,
      "outputs": []
    },
    {
      "cell_type": "code",
      "source": [
        "for movimiento in posMov:\n",
        "  data[movimiento] = np.zeros(len(data))"
      ],
      "metadata": {
        "id": "sd73nN_rV6BV"
      },
      "execution_count": null,
      "outputs": []
    },
    {
      "cell_type": "code",
      "source": [
        "data = data.set_index(['Departamento'])"
      ],
      "metadata": {
        "id": "Wl55u5BKXdQ-"
      },
      "execution_count": null,
      "outputs": []
    },
    {
      "cell_type": "markdown",
      "source": [
        "Y se contabiliza el total votos por ideología y departamento"
      ],
      "metadata": {
        "id": "Y0mk3UNwiqzg"
      }
    },
    {
      "cell_type": "code",
      "source": [
        "for dpto in data.index:\n",
        "  for part in partidos2010:\n",
        "    try:\n",
        "      data[pos2010[part]][dpto] = int(data[pos2010[part]][dpto]) + int(data[part][dpto])\n",
        "    except:\n",
        "      pass"
      ],
      "metadata": {
        "id": "inbJWrYOWX_d"
      },
      "execution_count": null,
      "outputs": []
    },
    {
      "cell_type": "code",
      "source": [
        "data = data.drop(partidos2010, axis=1)"
      ],
      "metadata": {
        "id": "pcHytwj8VpS5"
      },
      "execution_count": null,
      "outputs": []
    },
    {
      "cell_type": "code",
      "source": [
        "data = data.drop(['Total'], axis=1)"
      ],
      "metadata": {
        "id": "AKjlrRzhZOv1"
      },
      "execution_count": null,
      "outputs": []
    },
    {
      "cell_type": "code",
      "source": [
        "data['DPTOS'] = ['ANTIOQUIA', 'CORDOBA', 'SANTANDER', 'BOGOTA',\n",
        "       'VALLE DEL CAUCA', 'CAUCA', 'ATLANTICO', 'CUNDINAMARCA',\n",
        "       'NORTE DE SANTANDER', 'TOLIMA', 'NARIÑO', 'RISARALDA', 'LA GUAJIRA',\n",
        "       'CALDAS', 'BOYACA', 'META', 'MAGDALENA', 'QUINDIO', 'CESAR', 'CHOCO',\n",
        "       'BOLIVAR', 'PUTUMAYO', 'CAQUETA', 'CASANARE', 'SUCRE',\n",
        "       'SAN ANDRES Y PROVIDENCIA', 'AMAZONAS', 'CONSULADOS', 'VICHADA',\n",
        "       'VAUPES', 'GUAINIA', 'ARAUCA', 'GUAVIARE', 'HUILA', 'TOTAL']\n",
        "\n",
        "data2010 = data.set_index(['DPTOS'])"
      ],
      "metadata": {
        "id": "XE_SMg95ZXOz"
      },
      "execution_count": null,
      "outputs": []
    },
    {
      "cell_type": "markdown",
      "source": [
        "Y se guarda en un archivo csv"
      ],
      "metadata": {
        "id": "sSs6xvIoivAZ"
      }
    },
    {
      "cell_type": "code",
      "source": [
        "data2010.to_csv('drive/MyDrive/Proyecto2_CienciaDatos/data2010.csv')"
      ],
      "metadata": {
        "id": "yCB6kMyqbkH7"
      },
      "execution_count": null,
      "outputs": []
    },
    {
      "cell_type": "markdown",
      "source": [
        "## Normalización de los votos y creación de las matrices\n",
        "\n",
        "El análisis de favorabilidad de las ideologías se realizará mediante variables cuantitativas y en lo posible intensivas por departamento. Por esta razón, se normalizarán los conjuntos de votos por ideología para decidir la favorabilidad en las votaciones por departamento a partir de una votación mínima $0\\leq p\\leq 1$. Esto permitirá un umbral a discreción para la decisión de la clasificación previa $0$ (poco favorable) y $1$ (altamente favorable) como entrenamiento de la regresión logística, usando los datos de 2010-2018 y posterior validación con los datos de 2022."
      ],
      "metadata": {
        "id": "LO9JBUCZclye"
      }
    },
    {
      "cell_type": "markdown",
      "source": [
        "### Normalización 2022"
      ],
      "metadata": {
        "id": "Z-qVADncp-Ox"
      }
    },
    {
      "cell_type": "code",
      "source": [
        "dat2022 = pd.read_csv('drive/MyDrive/Proyecto2_CienciaDatos/data2022.csv')"
      ],
      "metadata": {
        "id": "ED23XO3A4TT2"
      },
      "execution_count": null,
      "outputs": []
    },
    {
      "cell_type": "code",
      "source": [
        "dat2022 = dat2022.set_index(['DPTOS'])"
      ],
      "metadata": {
        "id": "d4Ab5Zn34TT2"
      },
      "execution_count": null,
      "outputs": []
    },
    {
      "cell_type": "markdown",
      "source": [
        "Se hace una división por el total de votos\n"
      ],
      "metadata": {
        "id": "D0ByGiM2iyfU"
      }
    },
    {
      "cell_type": "code",
      "source": [
        "for dpto in data2022.index:\n",
        "  total = np.sum(dat2022.loc[dpto])\n",
        "  for part in dat2022.columns:\n",
        "    dat2022.loc[dpto][part] = dat2022.loc[dpto][part]/total "
      ],
      "metadata": {
        "id": "8CjWzFzq4TT2"
      },
      "execution_count": null,
      "outputs": []
    },
    {
      "cell_type": "markdown",
      "source": [
        "Se guarda en csv"
      ],
      "metadata": {
        "id": "g2vMJq3Qi1LO"
      }
    },
    {
      "cell_type": "code",
      "source": [
        "dat2022.to_csv('drive/MyDrive/Proyecto2_CienciaDatos/dataNorm2022.csv')"
      ],
      "metadata": {
        "id": "WgGq_b3R4TT2"
      },
      "execution_count": null,
      "outputs": []
    },
    {
      "cell_type": "markdown",
      "source": [
        "### Normalización 2018"
      ],
      "metadata": {
        "id": "WehKC3Owcsru"
      }
    },
    {
      "cell_type": "code",
      "source": [
        "dat2018 = pd.read_csv('drive/MyDrive/Proyecto2_CienciaDatos/data2018.csv')\n",
        "dat2018 = dat2018.groupby(['NDepto', 'pos']).sum()"
      ],
      "metadata": {
        "id": "RrS75FpElPO-"
      },
      "execution_count": null,
      "outputs": []
    },
    {
      "cell_type": "code",
      "source": [
        "indice = ['AMAZONAS', 'ANTIOQUIA', 'ARAUCA', 'ATLANTICO', 'BOGOTA',\n",
        "       'BOLIVAR', 'BOYACA', 'CALDAS', 'CAQUETA', 'CASANARE', 'CAUCA',\n",
        "       'CESAR', 'CHOCO', 'CORDOBA', 'CUNDINAMARCA', 'GUAINIA', 'GUAVIARE',\n",
        "       'HUILA', 'LA GUAJIRA', 'MAGDALENA', 'META', 'NARIÑO',\n",
        "       'NORTE DE SANTANDER', 'PUTUMAYO', 'QUINDIO', 'RISARALDA', 'SAN ANDRES Y PROVIDENCIA',\n",
        "       'SANTANDER', 'SUCRE', 'TOLIMA', 'VALLE', 'VAUPES', 'VICHADA', 'TOTAL']\n",
        "\n",
        "columnas = ['IZQUIERDA', 'CENTRO-IZQUIERDA', 'CENTRO', 'CENTRO-DERECHA', 'DERECHA']"
      ],
      "metadata": {
        "id": "T_RMVgYnlPO-"
      },
      "execution_count": null,
      "outputs": []
    },
    {
      "cell_type": "code",
      "source": [
        "dataNorm2018 = pd.DataFrame(indice)\n",
        "dataNorm2018.columns = ['DPTOS']"
      ],
      "metadata": {
        "id": "p-9N6HJYlPO-"
      },
      "execution_count": null,
      "outputs": []
    },
    {
      "cell_type": "code",
      "source": [
        "for columna in columnas:\n",
        "  dataNorm2018[columna] = np.zeros(len(dataNorm2018))"
      ],
      "metadata": {
        "id": "3QArQitPlPO_"
      },
      "execution_count": null,
      "outputs": []
    },
    {
      "cell_type": "code",
      "source": [
        "dataNorm2018 = dataNorm2018.set_index(['DPTOS'])"
      ],
      "metadata": {
        "id": "l5a2_FY7lPO_"
      },
      "execution_count": null,
      "outputs": []
    },
    {
      "cell_type": "code",
      "source": [
        "for ind in indice[:-1]:\n",
        "  for mov in columnas:\n",
        "    if ind == 'BOGOTA':\n",
        "      dataNorm2018.loc[ind][mov] = dat2018.loc['BOGOTA D.C.'].loc[mov]\n",
        "    elif ind == 'SAN ANDRES Y PROVIDENCIA':\n",
        "      dataNorm2018.loc[ind][mov] = dat2018.loc['SAN ANDRES'].loc[mov]\n",
        "    elif ind == 'NORTE DE SANTANDER':\n",
        "      dataNorm2018.loc[ind][mov] = dat2018.loc['NORTE DE SAN'].loc[mov]\n",
        "    elif ind == 'CESAR':\n",
        "      pass\n",
        "    else:  \n",
        "      dataNorm2018.loc[ind][mov] = dat2018.loc[ind].loc[mov]"
      ],
      "metadata": {
        "id": "ApyBLTy-lPO_"
      },
      "execution_count": null,
      "outputs": []
    },
    {
      "cell_type": "code",
      "source": [
        "for mov in columnas:\n",
        "  dataNorm2018.loc['TOTAL'][mov] = np.sum(dataNorm2018[mov])"
      ],
      "metadata": {
        "id": "G9YdsV3ZlPO_"
      },
      "execution_count": null,
      "outputs": []
    },
    {
      "cell_type": "markdown",
      "source": [
        "Se hace una división por el total de votos\n"
      ],
      "metadata": {
        "id": "tKVmlEb3jD6X"
      }
    },
    {
      "cell_type": "code",
      "source": [
        "for dpto in indice:\n",
        "  total = np.sum(dataNorm2018.loc[dpto])\n",
        "  for part in columnas:\n",
        "    dataNorm2018.loc[dpto][part] = dataNorm2018.loc[dpto][part]/total "
      ],
      "metadata": {
        "id": "WCt8FYWolPO_"
      },
      "execution_count": null,
      "outputs": []
    },
    {
      "cell_type": "markdown",
      "source": [
        "Se guarda en csv"
      ],
      "metadata": {
        "id": "iulB3gfejD6X"
      }
    },
    {
      "cell_type": "code",
      "source": [
        "dataNorm2018.to_csv('drive/MyDrive/Proyecto2_CienciaDatos/dataNorm2018.csv')"
      ],
      "metadata": {
        "id": "2-sCDFEqlPPA"
      },
      "execution_count": null,
      "outputs": []
    },
    {
      "cell_type": "markdown",
      "source": [
        "### Normalización 2014"
      ],
      "metadata": {
        "id": "NIhMBJ1BcslK"
      }
    },
    {
      "cell_type": "code",
      "source": [
        "dat2014 = pd.read_csv('drive/MyDrive/Proyecto2_CienciaDatos/data2014.csv')\n",
        "dat2014 = dat2014.groupby(['DEPARTAMENTO', 'pos']).sum()"
      ],
      "metadata": {
        "id": "CfaduRR-fOQJ"
      },
      "execution_count": null,
      "outputs": []
    },
    {
      "cell_type": "code",
      "source": [
        "indice = ['AMAZONAS', 'ANTIOQUIA', 'ARAUCA', 'ATLANTICO', 'BOGOTA',\n",
        "       'BOLIVAR', 'BOYACA', 'CALDAS', 'CAQUETA', 'CASANARE', 'CAUCA',\n",
        "       'CESAR', 'CHOCO', 'CORDOBA', 'CUNDINAMARCA', 'GUAINIA', 'GUAVIARE',\n",
        "       'HUILA', 'LA GUAJIRA', 'MAGDALENA', 'META', 'NARIÑO',\n",
        "       'NORTE DE SANTANDER', 'PUTUMAYO', 'QUINDIO', 'RISARALDA', 'SAN ANDRES Y PROVIDENCIA',\n",
        "       'SANTANDER', 'SUCRE', 'TOLIMA', 'VALLE', 'VAUPES', 'VICHADA', 'TOTAL']\n",
        "\n",
        "columnas = ['IZQUIERDA', 'CENTRO-IZQUIERDA', 'CENTRO', 'CENTRO-DERECHA', 'DERECHA']"
      ],
      "metadata": {
        "id": "nkWjFYIqfSzk"
      },
      "execution_count": null,
      "outputs": []
    },
    {
      "cell_type": "code",
      "source": [
        "dataNorm2014 = pd.DataFrame(indice)\n",
        "dataNorm2014.columns = ['DPTOS']"
      ],
      "metadata": {
        "id": "l4j3v4ssgCCA"
      },
      "execution_count": null,
      "outputs": []
    },
    {
      "cell_type": "code",
      "source": [
        "for columna in columnas:\n",
        "  dataNorm2014[columna] = np.zeros(len(dataNorm2014))"
      ],
      "metadata": {
        "id": "FZlKIQRigIy7"
      },
      "execution_count": null,
      "outputs": []
    },
    {
      "cell_type": "code",
      "source": [
        "dataNorm2014 = dataNorm2014.set_index(['DPTOS'])"
      ],
      "metadata": {
        "id": "1iQkECVTjTPo"
      },
      "execution_count": null,
      "outputs": []
    },
    {
      "cell_type": "code",
      "source": [
        "for ind in indice[:-1]:\n",
        "  for mov in columnas:\n",
        "    if ind == 'BOGOTA':\n",
        "      dataNorm2014.loc[ind][mov] = dat2014.loc['BOGOTA D.C.'].loc[mov]\n",
        "    elif ind == 'SAN ANDRES Y PROVIDENCIA':\n",
        "      dataNorm2014.loc[ind][mov] = dat2014.loc['SAN ANDRES'].loc[mov]\n",
        "    elif ind == 'NORTE DE SANTANDER':\n",
        "      dataNorm2014.loc[ind][mov] = dat2014.loc['NORTE DE SAN'].loc[mov]\n",
        "    else:\n",
        "      dataNorm2014.loc[ind][mov] = dat2014.loc[ind].loc[mov]"
      ],
      "metadata": {
        "id": "UM9ROTcyhua9"
      },
      "execution_count": null,
      "outputs": []
    },
    {
      "cell_type": "code",
      "source": [
        "for mov in columnas:\n",
        "  dataNorm2014.loc['TOTAL'][mov] = np.sum(dataNorm2014[mov])"
      ],
      "metadata": {
        "id": "6ekVijt9kGHn"
      },
      "execution_count": null,
      "outputs": []
    },
    {
      "cell_type": "markdown",
      "source": [
        "Se hace una división por el total de votos\n"
      ],
      "metadata": {
        "id": "rE-RRHSZjJWa"
      }
    },
    {
      "cell_type": "code",
      "source": [
        "for dpto in indice:\n",
        "  total = np.sum(dataNorm2014.loc[dpto])\n",
        "  for part in columnas:\n",
        "    dataNorm2014.loc[dpto][part] = dataNorm2014.loc[dpto][part]/total "
      ],
      "metadata": {
        "id": "cfG34bmhkRIf"
      },
      "execution_count": null,
      "outputs": []
    },
    {
      "cell_type": "markdown",
      "source": [
        "Se guarda en csv"
      ],
      "metadata": {
        "id": "q7pU8UCFjJWb"
      }
    },
    {
      "cell_type": "code",
      "source": [
        "dataNorm2014.to_csv('drive/MyDrive/Proyecto2_CienciaDatos/dataNorm2014.csv')"
      ],
      "metadata": {
        "id": "KzPM7ewrk5Vu"
      },
      "execution_count": null,
      "outputs": []
    },
    {
      "cell_type": "markdown",
      "source": [
        "### Normalización 2010"
      ],
      "metadata": {
        "id": "Q5JJAQshcsKJ"
      }
    },
    {
      "cell_type": "code",
      "source": [
        "dat2010 = pd.read_csv('drive/MyDrive/Proyecto2_CienciaDatos/data2010.csv')"
      ],
      "metadata": {
        "id": "yJY96zowc3bK"
      },
      "execution_count": null,
      "outputs": []
    },
    {
      "cell_type": "code",
      "source": [
        "dat2010 = dat2010.set_index(['DPTOS'])"
      ],
      "metadata": {
        "id": "Y_1KQm1gdLal"
      },
      "execution_count": null,
      "outputs": []
    },
    {
      "cell_type": "markdown",
      "source": [
        "Se hace una división por el total de votos\n"
      ],
      "metadata": {
        "id": "4OqxB7l-jQeO"
      }
    },
    {
      "cell_type": "code",
      "source": [
        "for dpto in data.index:\n",
        "  total = np.sum(dat2010.loc[dpto])\n",
        "  for part in dat2010.columns:\n",
        "    dat2010.loc[dpto][part] = dat2010.loc[dpto][part]/total "
      ],
      "metadata": {
        "id": "IC-VdE33c9W6"
      },
      "execution_count": null,
      "outputs": []
    },
    {
      "cell_type": "markdown",
      "source": [
        "Se guarda en csv"
      ],
      "metadata": {
        "id": "w67Uh2FljQeP"
      }
    },
    {
      "cell_type": "code",
      "source": [
        "dat2010.to_csv('drive/MyDrive/Proyecto2_CienciaDatos/dataNorm2010.csv')"
      ],
      "metadata": {
        "id": "0c485VBZdx_Z"
      },
      "execution_count": null,
      "outputs": []
    },
    {
      "cell_type": "markdown",
      "source": [
        "## Creación de los modelos"
      ],
      "metadata": {
        "id": "zgv_29g39aXl"
      }
    },
    {
      "cell_type": "code",
      "source": [
        "matrix2010 = pd.read_csv('dataNorm2010.csv')\n",
        "matrix2014 = pd.read_csv('dataNorm2014.csv')\n",
        "matrix2018 = pd.read_csv('dataNorm2018.csv')\n",
        "matrix2022 = pd.read_csv('dataNorm2022.csv')\n",
        "\n",
        "datosFinales = pd.read_excel('datosFinales.xlsx')"
      ],
      "metadata": {
        "id": "yyLAQvcb9cLw"
      },
      "execution_count": null,
      "outputs": []
    },
    {
      "cell_type": "markdown",
      "source": [
        "Se define la favorabilidad mínima en votación para la decisión de 1 en la clasificación logística. Si es menor, 0"
      ],
      "metadata": {
        "id": "2KS_CfpuefOB"
      }
    },
    {
      "cell_type": "code",
      "source": [
        "p = 0.15"
      ],
      "metadata": {
        "id": "PykHsohF_Cmw"
      },
      "execution_count": null,
      "outputs": []
    },
    {
      "cell_type": "code",
      "source": [
        "matrix2010 = matrix2010.set_index(['DPTOS'])\n",
        "matrix2014 = matrix2014.set_index(['DPTOS'])\n",
        "matrix2018 = matrix2018.set_index(['DPTOS'])\n",
        "matrix2022 = matrix2022.set_index(['DPTOS'])\n",
        "\n",
        "datosFinales = datosFinales.set_index(['DPTOS'])"
      ],
      "metadata": {
        "id": "WRuvVKtt9UrU"
      },
      "execution_count": null,
      "outputs": []
    },
    {
      "cell_type": "code",
      "source": [
        "for dpto in matrix2010.index:\n",
        "  for mov in matrix2010.columns:\n",
        "    matrix2010.loc[dpto][mov] = 1 if matrix2010.loc[dpto][mov] > p else 0 \n",
        "    matrix2014.loc[dpto][mov] = 1 if matrix2014.loc[dpto][mov] > p else 0 \n",
        "    matrix2018.loc[dpto][mov] = 1 if matrix2018.loc[dpto][mov] > p else 0 \n",
        "    matrix2022.loc[dpto][mov] = 1 if matrix2022.loc[dpto][mov] > p else 0 "
      ],
      "metadata": {
        "id": "cFqn--J-_K33"
      },
      "execution_count": null,
      "outputs": []
    },
    {
      "cell_type": "markdown",
      "source": [
        "Filtrar departamentos sin indicadores socioeconómicos"
      ],
      "metadata": {
        "id": "NGF_lp1Nek-o"
      }
    },
    {
      "cell_type": "code",
      "source": [
        "matrix2022 = matrix2022.drop(['GUAINIA', 'VAUPES', 'VICHADA', 'TOTAL'])\n",
        "matrix2018 = matrix2018.drop(['GUAINIA', 'VAUPES', 'VICHADA', 'TOTAL'])\n",
        "matrix2014 = matrix2014.drop(['GUAINIA', 'VAUPES', 'VICHADA', 'TOTAL'])\n",
        "matrix2010 = matrix2010.drop(['GUAINIA', 'VAUPES', 'VICHADA', 'TOTAL'])\n",
        "\n",
        "datosFinales = datosFinales.drop(['GUAINIA', 'VAUPES', 'VICHADA'])"
      ],
      "metadata": {
        "id": "LEWtxxFH9VXk"
      },
      "execution_count": null,
      "outputs": []
    },
    {
      "cell_type": "code",
      "source": [
        "datos2010 = datosFinales[['CoberturaSuperior2009', 'RiesgoElectoral2009', 'FortalezaEconomica2009',\n",
        "                          'Infraestructura2009', 'CapitalHumano2009']]\n",
        "\n",
        "datos2014 = datosFinales[['CoberturaSuperior2013', 'RiesgoElectoral2013', 'FortalezaEconomica2013',\n",
        "                          'Infraestructura2013', 'CapitalHumano2013']]\n",
        "\n",
        "datos2018 = datosFinales[['CoberturaSuperior2017', 'RiesgoElectoral2017', 'FortalezaEconomica2017',\n",
        "                          'Infraestructura2017', 'CapitalHumano2017']]\n",
        "\n",
        "datos2022 = datosFinales[['CoberturaSuperior2021', 'RiesgoElectoral2021', 'FortalezaEconomica2021',\n",
        "                          'Infraestructura2021', 'CapitalHumano2021']]\n"
      ],
      "metadata": {
        "id": "oEJ9OB2hHl_Z"
      },
      "execution_count": null,
      "outputs": []
    },
    {
      "cell_type": "code",
      "source": [
        "datos2010.columns = ['CoberturaSuperior', 'RiesgoElectoral', 'FortalezaEconomica',\n",
        "                          'Infraestructura', 'CapitalHumano']\n",
        "datos2014.columns = ['CoberturaSuperior', 'RiesgoElectoral', 'FortalezaEconomica',\n",
        "                          'Infraestructura', 'CapitalHumano']\n",
        "datos2018.columns = ['CoberturaSuperior', 'RiesgoElectoral', 'FortalezaEconomica',\n",
        "                          'Infraestructura', 'CapitalHumano']\n",
        "datos2022.columns = ['CoberturaSuperior', 'RiesgoElectoral', 'FortalezaEconomica',\n",
        "                          'Infraestructura', 'CapitalHumano']"
      ],
      "metadata": {
        "id": "0Naf_9aJMMwR"
      },
      "execution_count": null,
      "outputs": []
    },
    {
      "cell_type": "markdown",
      "source": [
        "Y se añaden a cada DataFrame la columna de presencia de la ideología para cada una de las ideologías."
      ],
      "metadata": {
        "id": "N4FWiDTvjyPf"
      }
    },
    {
      "cell_type": "code",
      "source": [
        "dataYears = [datos2010, datos2014, datos2018]\n",
        "matrixYears = [matrix2010, matrix2014, matrix2018]\n",
        "\n",
        "for i in range(len(dataYears)):\n",
        "  dataYear = dataYears[i].copy()\n",
        "  dataYear['izq'] = np.zeros(len(dataYear))\n",
        "\n",
        "  for dpto in dataYear.index:\n",
        "    dataYear.loc[dpto]['izq'] = matrixYears[i].loc[dpto]['IZQUIERDA']\n",
        "\n",
        "  if i == 0:\n",
        "    dataIzq = dataYear\n",
        "  else:\n",
        "    dataIzq = pd.concat([dataIzq, dataYear])\n",
        "\n",
        "for i in range(len(dataYears)):\n",
        "  dataYear = dataYears[i].copy()\n",
        "  dataYear['centIzq'] = np.zeros(len(dataYear))\n",
        "\n",
        "  for dpto in dataYear.index:\n",
        "    dataYear.loc[dpto]['centIzq'] = matrixYears[i].loc[dpto]['CENTRO-IZQUIERDA']\n",
        "\n",
        "  if i == 0:\n",
        "    dataCentIzq = dataYear\n",
        "  else:\n",
        "    dataCentIzq = pd.concat([dataCentIzq, dataYear])\n",
        "\n",
        "for i in range(len(dataYears)):\n",
        "  dataYear = dataYears[i].copy()\n",
        "  dataYear['cent'] = np.zeros(len(dataYear))\n",
        "\n",
        "  for dpto in dataYear.index:\n",
        "    dataYear.loc[dpto]['cent'] = matrixYears[i].loc[dpto]['CENTRO']\n",
        "\n",
        "  if i == 0:\n",
        "    dataCent = dataYear\n",
        "  else:\n",
        "    dataCent = pd.concat([dataCent, dataYear])\n",
        "\n",
        "for i in range(len(dataYears)):\n",
        "  dataYear = dataYears[i].copy()\n",
        "  dataYear['centDer'] = np.zeros(len(dataYear))\n",
        "\n",
        "  for dpto in dataYear.index:\n",
        "    dataYear.loc[dpto]['centDer'] = matrixYears[i].loc[dpto]['CENTRO-DERECHA']\n",
        "\n",
        "  if i == 0:\n",
        "    dataCentDer = dataYear\n",
        "  else:\n",
        "    dataCentDer = pd.concat([dataCentDer, dataYear])\n",
        "\n",
        "for i in range(len(dataYears)):\n",
        "  dataYear = dataYears[i].copy()\n",
        "  dataYear['der'] = np.zeros(len(dataYear))\n",
        "\n",
        "  for dpto in dataYear.index:\n",
        "    dataYear.loc[dpto]['der'] = matrixYears[i].loc[dpto]['DERECHA']\n",
        "\n",
        "  if i == 0:\n",
        "    dataDer = dataYear\n",
        "  else:\n",
        "    dataDer = pd.concat([dataDer, dataYear])"
      ],
      "metadata": {
        "id": "SqEoms_IItPd"
      },
      "execution_count": null,
      "outputs": []
    },
    {
      "cell_type": "markdown",
      "source": [
        "Se arregla el modelo de la ideología 'Centro Derecha' pues en los datos de entrenamiento sólo hay una clase (1 - Presencia de la ideología), así que se genera un departamento imaginario cuyos parámetros son el promedio de todos los anteriores y que no cuenta con la presencia de esta ideología."
      ],
      "metadata": {
        "id": "K2cLHSoYkKVW"
      }
    },
    {
      "cell_type": "code",
      "source": [
        "indices = ['CoberturaSuperior',\t'RiesgoElectoral',\t'FortalezaEconomica',\t'Infraestructura',\t'CapitalHumano']\n",
        "\n",
        "dataCentDerFixed = pd.DataFrame(['IMAGINOLANDIA'])\n",
        "for indice in indices:\n",
        "  dataCentDerFixed[indice] = np.mean(dataCentDer[indice])\n",
        "\n",
        "dataCentDerFixed['centDer'] = 0\n",
        "dataCentDerFixed.columns = ['DPTOS', 'CoberturaSuperior', 'RiesgoElectoral', 'FortalezaEconomica', 'Infraestructura', \n",
        "                            'CapitalHumano', 'centDer']\n",
        "\n",
        "dataCentDerFixed.set_index(['DPTOS'], inplace=True)\n",
        "\n",
        "dataCentDer = pd.concat([dataCentDer, dataCentDerFixed])"
      ],
      "metadata": {
        "id": "ssikox4VTdtj"
      },
      "execution_count": null,
      "outputs": []
    },
    {
      "cell_type": "markdown",
      "source": [
        "Ahora, se crean los X y Y de entrenamiento para cada uno de los 5 modelos."
      ],
      "metadata": {
        "id": "uh9hK2o9kiOc"
      }
    },
    {
      "cell_type": "code",
      "source": [
        "X = dataIzq[['CoberturaSuperior',\t'RiesgoElectoral',\t'FortalezaEconomica',\t'Infraestructura',\t'CapitalHumano']]\n",
        "XCentDer = dataCentDer[['CoberturaSuperior',\t'RiesgoElectoral',\t'FortalezaEconomica',\t'Infraestructura',\t'CapitalHumano']]\n",
        "\n",
        "YIzq = dataIzq['izq']\n",
        "YCentIzq = dataCentIzq['centIzq']\n",
        "YCent = dataCent['cent']\n",
        "YCentDer = dataCentDer['centDer']\n",
        "YDer = dataDer['der']"
      ],
      "metadata": {
        "id": "30xSuU-iMmVc"
      },
      "execution_count": null,
      "outputs": []
    },
    {
      "cell_type": "markdown",
      "source": [
        "Finalmente, definimos los modelos utilizando la libreria SkLearn "
      ],
      "metadata": {
        "id": "49-i6isfj_53"
      }
    },
    {
      "cell_type": "code",
      "source": [
        "modelIzq = sklearn.linear_model.LogisticRegression().fit(X, YIzq)\n",
        "modelCentIzq = sklearn.linear_model.LogisticRegression().fit(X, YCentIzq)\n",
        "modelCent = sklearn.linear_model.LogisticRegression().fit(X, YCent)\n",
        "modelCentDer = sklearn.linear_model.LogisticRegression().fit(XCentDer, YCentDer)\n",
        "modelDer = sklearn.linear_model.LogisticRegression().fit(X, YDer)"
      ],
      "metadata": {
        "id": "5C0_iYwPON-X"
      },
      "execution_count": null,
      "outputs": []
    },
    {
      "cell_type": "markdown",
      "source": [
        "Se predice la lista de favorabilidad de departamentos para cada ideología"
      ],
      "metadata": {
        "id": "j4F1JzFlk4li"
      }
    },
    {
      "cell_type": "code",
      "source": [
        "YIzqPredict = modelIzq.predict(datos2022)\n",
        "YCentIzqPredict = modelCentIzq.predict(datos2022)\n",
        "YCentPredict = modelCent.predict(datos2022)\n",
        "YCentDerPredict = modelCentDer.predict(datos2022)\n",
        "YDerPredict = modelDer.predict(datos2022)"
      ],
      "metadata": {
        "id": "Pz-T35w3PWrf"
      },
      "execution_count": null,
      "outputs": []
    },
    {
      "cell_type": "code",
      "source": [
        "print('YIzqPredict: ', YIzqPredict)\n",
        "print('YCentIzqPredict: ', YCentIzqPredict)\n",
        "print('YCentPredict: ', YCentPredict)\n",
        "print('YCentDerPredict: ', YCentDerPredict)\n",
        "print('YDerPredict: ', YDerPredict)\n",
        "print(matrix2010)"
      ],
      "metadata": {
        "id": "yN-cLx9RJOHc"
      },
      "execution_count": null,
      "outputs": []
    },
    {
      "cell_type": "markdown",
      "source": [
        "Y las probabilidades"
      ],
      "metadata": {
        "id": "QZ9lNC0tlJDz"
      }
    },
    {
      "cell_type": "code",
      "source": [
        "probaIzq = modelIzq.predict_proba(datos2022)\n",
        "probaCentIzq = modelCentIzq.predict_proba(datos2022)\n",
        "probaCent = modelCent.predict_proba(datos2022)\n",
        "probaDer = modelCentDer.predict_proba(datos2022)\n",
        "probaCentDer = modelDer.predict_proba(datos2022)"
      ],
      "metadata": {
        "id": "ZigLY2ZQ572m"
      },
      "execution_count": null,
      "outputs": []
    },
    {
      "cell_type": "markdown",
      "source": [
        "## Gráficas y Análisis de resultados"
      ],
      "metadata": {
        "id": "CQp3digesQFv"
      }
    },
    {
      "cell_type": "markdown",
      "source": [
        "En primer lugar, se calculan los F1_Scores, dos para cada modelo (según si el departamento hace o no parte de esa ideología), lo que resulta en 10 indicadores"
      ],
      "metadata": {
        "id": "lQFZGxlZ_KC-"
      }
    },
    {
      "cell_type": "code",
      "source": [
        "f1Izq0 = sklearn.metrics.f1_score(matrix2022['IZQUIERDA'], YIzqPredict, pos_label=0)\n",
        "f1CentIzq0 = sklearn.metrics.f1_score(matrix2022['CENTRO-IZQUIERDA'], YCentIzqPredict, pos_label=0)\n",
        "f1Cent0 = sklearn.metrics.f1_score(matrix2022['CENTRO'], YCentPredict, pos_label=0)\n",
        "f1CentDer0 = sklearn.metrics.f1_score(matrix2022['CENTRO-DERECHA'], YCentDerPredict, pos_label=0)\n",
        "f1Der0 = sklearn.metrics.f1_score(matrix2022['DERECHA'], YDerPredict, pos_label=0)\n",
        "\n",
        "f1Izq1 = sklearn.metrics.f1_score(matrix2022['IZQUIERDA'], YIzqPredict, pos_label=1)\n",
        "f1CentIzq1 = sklearn.metrics.f1_score(matrix2022['CENTRO-IZQUIERDA'], YCentIzqPredict, pos_label=1)\n",
        "f1Cent1 = sklearn.metrics.f1_score(matrix2022['CENTRO'], YCentPredict,pos_label=1)\n",
        "f1CentDer1 = sklearn.metrics.f1_score(matrix2022['CENTRO-DERECHA'], YCentDerPredict, pos_label=1)\n",
        "f1Der1 = sklearn.metrics.f1_score(matrix2022['DERECHA'], YDerPredict, pos_label=1)"
      ],
      "metadata": {
        "id": "o2ZaGhzMY8F-"
      },
      "execution_count": null,
      "outputs": []
    },
    {
      "cell_type": "markdown",
      "source": [
        "Y se tabulan para su visualización"
      ],
      "metadata": {
        "id": "qjPHv9rT_WnB"
      }
    },
    {
      "cell_type": "code",
      "source": [
        "f1Table = pd.DataFrame(['F1_Score_0', 'F1_Score_1'], columns=['Score'])\n",
        "f1Table['IZQUIERDA'] = [f1Izq0, f1Izq1]\n",
        "f1Table['CENTRO-IZQUIERDA'] = [f1CentIzq0, f1CentIzq1]\n",
        "f1Table['CENTRO'] = [f1Cent0, f1Cent1]\n",
        "f1Table['CENTRO-DERECHA'] = [f1CentDer0, f1CentDer1]\n",
        "f1Table['DERECHA'] = [f1Der0, f1Der1]\n",
        "\n",
        "f1Table.set_index(['Score'], inplace=True)\n",
        "f1Table                "
      ],
      "metadata": {
        "colab": {
          "base_uri": "https://localhost:8080/",
          "height": 143
        },
        "id": "wfZtKF7UtMZF",
        "outputId": "fa59e40c-9988-4894-d261-d71da3fb4074"
      },
      "execution_count": null,
      "outputs": [
        {
          "output_type": "execute_result",
          "data": {
            "text/plain": [
              "            IZQUIERDA  CENTRO-IZQUIERDA  CENTRO  CENTRO-DERECHA  DERECHA\n",
              "Score                                                                   \n",
              "F1_Score_0   0.846154          0.965517    0.40             0.0    0.125\n",
              "F1_Score_1   0.000000          0.000000    0.16             1.0    0.000"
            ],
            "text/html": [
              "\n",
              "  <div id=\"df-4255f274-d091-42eb-9722-ff17e2654c59\">\n",
              "    <div class=\"colab-df-container\">\n",
              "      <div>\n",
              "<style scoped>\n",
              "    .dataframe tbody tr th:only-of-type {\n",
              "        vertical-align: middle;\n",
              "    }\n",
              "\n",
              "    .dataframe tbody tr th {\n",
              "        vertical-align: top;\n",
              "    }\n",
              "\n",
              "    .dataframe thead th {\n",
              "        text-align: right;\n",
              "    }\n",
              "</style>\n",
              "<table border=\"1\" class=\"dataframe\">\n",
              "  <thead>\n",
              "    <tr style=\"text-align: right;\">\n",
              "      <th></th>\n",
              "      <th>IZQUIERDA</th>\n",
              "      <th>CENTRO-IZQUIERDA</th>\n",
              "      <th>CENTRO</th>\n",
              "      <th>CENTRO-DERECHA</th>\n",
              "      <th>DERECHA</th>\n",
              "    </tr>\n",
              "    <tr>\n",
              "      <th>Score</th>\n",
              "      <th></th>\n",
              "      <th></th>\n",
              "      <th></th>\n",
              "      <th></th>\n",
              "      <th></th>\n",
              "    </tr>\n",
              "  </thead>\n",
              "  <tbody>\n",
              "    <tr>\n",
              "      <th>F1_Score_0</th>\n",
              "      <td>0.846154</td>\n",
              "      <td>0.965517</td>\n",
              "      <td>0.40</td>\n",
              "      <td>0.0</td>\n",
              "      <td>0.125</td>\n",
              "    </tr>\n",
              "    <tr>\n",
              "      <th>F1_Score_1</th>\n",
              "      <td>0.000000</td>\n",
              "      <td>0.000000</td>\n",
              "      <td>0.16</td>\n",
              "      <td>1.0</td>\n",
              "      <td>0.000</td>\n",
              "    </tr>\n",
              "  </tbody>\n",
              "</table>\n",
              "</div>\n",
              "      <button class=\"colab-df-convert\" onclick=\"convertToInteractive('df-4255f274-d091-42eb-9722-ff17e2654c59')\"\n",
              "              title=\"Convert this dataframe to an interactive table.\"\n",
              "              style=\"display:none;\">\n",
              "        \n",
              "  <svg xmlns=\"http://www.w3.org/2000/svg\" height=\"24px\"viewBox=\"0 0 24 24\"\n",
              "       width=\"24px\">\n",
              "    <path d=\"M0 0h24v24H0V0z\" fill=\"none\"/>\n",
              "    <path d=\"M18.56 5.44l.94 2.06.94-2.06 2.06-.94-2.06-.94-.94-2.06-.94 2.06-2.06.94zm-11 1L8.5 8.5l.94-2.06 2.06-.94-2.06-.94L8.5 2.5l-.94 2.06-2.06.94zm10 10l.94 2.06.94-2.06 2.06-.94-2.06-.94-.94-2.06-.94 2.06-2.06.94z\"/><path d=\"M17.41 7.96l-1.37-1.37c-.4-.4-.92-.59-1.43-.59-.52 0-1.04.2-1.43.59L10.3 9.45l-7.72 7.72c-.78.78-.78 2.05 0 2.83L4 21.41c.39.39.9.59 1.41.59.51 0 1.02-.2 1.41-.59l7.78-7.78 2.81-2.81c.8-.78.8-2.07 0-2.86zM5.41 20L4 18.59l7.72-7.72 1.47 1.35L5.41 20z\"/>\n",
              "  </svg>\n",
              "      </button>\n",
              "      \n",
              "  <style>\n",
              "    .colab-df-container {\n",
              "      display:flex;\n",
              "      flex-wrap:wrap;\n",
              "      gap: 12px;\n",
              "    }\n",
              "\n",
              "    .colab-df-convert {\n",
              "      background-color: #E8F0FE;\n",
              "      border: none;\n",
              "      border-radius: 50%;\n",
              "      cursor: pointer;\n",
              "      display: none;\n",
              "      fill: #1967D2;\n",
              "      height: 32px;\n",
              "      padding: 0 0 0 0;\n",
              "      width: 32px;\n",
              "    }\n",
              "\n",
              "    .colab-df-convert:hover {\n",
              "      background-color: #E2EBFA;\n",
              "      box-shadow: 0px 1px 2px rgba(60, 64, 67, 0.3), 0px 1px 3px 1px rgba(60, 64, 67, 0.15);\n",
              "      fill: #174EA6;\n",
              "    }\n",
              "\n",
              "    [theme=dark] .colab-df-convert {\n",
              "      background-color: #3B4455;\n",
              "      fill: #D2E3FC;\n",
              "    }\n",
              "\n",
              "    [theme=dark] .colab-df-convert:hover {\n",
              "      background-color: #434B5C;\n",
              "      box-shadow: 0px 1px 3px 1px rgba(0, 0, 0, 0.15);\n",
              "      filter: drop-shadow(0px 1px 2px rgba(0, 0, 0, 0.3));\n",
              "      fill: #FFFFFF;\n",
              "    }\n",
              "  </style>\n",
              "\n",
              "      <script>\n",
              "        const buttonEl =\n",
              "          document.querySelector('#df-4255f274-d091-42eb-9722-ff17e2654c59 button.colab-df-convert');\n",
              "        buttonEl.style.display =\n",
              "          google.colab.kernel.accessAllowed ? 'block' : 'none';\n",
              "\n",
              "        async function convertToInteractive(key) {\n",
              "          const element = document.querySelector('#df-4255f274-d091-42eb-9722-ff17e2654c59');\n",
              "          const dataTable =\n",
              "            await google.colab.kernel.invokeFunction('convertToInteractive',\n",
              "                                                     [key], {});\n",
              "          if (!dataTable) return;\n",
              "\n",
              "          const docLinkHtml = 'Like what you see? Visit the ' +\n",
              "            '<a target=\"_blank\" href=https://colab.research.google.com/notebooks/data_table.ipynb>data table notebook</a>'\n",
              "            + ' to learn more about interactive tables.';\n",
              "          element.innerHTML = '';\n",
              "          dataTable['output_type'] = 'display_data';\n",
              "          await google.colab.output.renderOutput(dataTable, element);\n",
              "          const docLink = document.createElement('div');\n",
              "          docLink.innerHTML = docLinkHtml;\n",
              "          element.appendChild(docLink);\n",
              "        }\n",
              "      </script>\n",
              "    </div>\n",
              "  </div>\n",
              "  "
            ]
          },
          "metadata": {},
          "execution_count": 20
        }
      ]
    },
    {
      "cell_type": "markdown",
      "source": [
        "Ahora se observará la utilidad del cálculo de la probabilidad de las predicciones, y el cambio en la precisión a medida que se varía el límite de esta probabilidad y se predice el binario"
      ],
      "metadata": {
        "id": "U2M_9jJD-LRQ"
      }
    },
    {
      "cell_type": "code",
      "source": [
        "n_probas = 100\n",
        "probas_cut_alto = np.linspace(0.0,1.0,n_probas)\n",
        "precision_probas = np.ones(n_probas)\n",
        "recall_probas = np.ones(n_probas)\n",
        "f1_probas = np.ones(n_probas)\n",
        "\n",
        "for i in range(n_probas):\n",
        "    ii = probaIzq[:,0] > probas_cut_alto[i]\n",
        "    YIzqPredict[ii] = 0\n",
        "    YIzqPredict[~ii] = 1\n",
        "    precision_probas[i] = sklearn.metrics.precision_score(matrix2022['IZQUIERDA'], YIzqPredict, pos_label=0)\n",
        "    recall_probas[i] = sklearn.metrics.recall_score(matrix2022['IZQUIERDA'], YIzqPredict, pos_label=0)\n",
        "    f1_probas[i] = sklearn.metrics.f1_score(matrix2022['IZQUIERDA'], YIzqPredict, pos_label=0)\n",
        "\n",
        "plt.plot(recall_probas, precision_probas, '-o', c='red', label='Izquierda')\n",
        "\n",
        "n_probas = 100\n",
        "probas_cut_alto = np.linspace(0.0,1.0,n_probas)\n",
        "precision_probas = np.ones(n_probas)\n",
        "recall_probas = np.ones(n_probas)\n",
        "f1_probas = np.ones(n_probas)\n",
        "\n",
        "for i in range(n_probas):\n",
        "    ii = probaCentIzq[:,0] > probas_cut_alto[i]\n",
        "    YCentIzqPredict[ii] = 0\n",
        "    YCentIzqPredict[~ii] = 1\n",
        "    precision_probas[i] = sklearn.metrics.precision_score(matrix2022['CENTRO-IZQUIERDA'], YCentIzqPredict, pos_label=0)\n",
        "    recall_probas[i] = sklearn.metrics.recall_score(matrix2022['CENTRO-IZQUIERDA'], YCentIzqPredict, pos_label=0)\n",
        "    f1_probas[i] = sklearn.metrics.f1_score(matrix2022['CENTRO-IZQUIERDA'], YCentIzqPredict, pos_label=0)\n",
        "\n",
        "plt.plot(recall_probas, precision_probas, '-o', c='orange', label='Centro Izquierda')\n",
        "\n",
        "n_probas = 100\n",
        "probas_cut_alto = np.linspace(0.0,1.0,n_probas)\n",
        "precision_probas = np.ones(n_probas)\n",
        "recall_probas = np.ones(n_probas)\n",
        "f1_probas = np.ones(n_probas)\n",
        "\n",
        "for i in range(n_probas):\n",
        "    ii = probaCent[:,0] > probas_cut_alto[i]\n",
        "    YCentPredict[ii] = 0\n",
        "    YCentPredict[~ii] = 1\n",
        "    precision_probas[i] = sklearn.metrics.precision_score(matrix2022['CENTRO'], YCentPredict, pos_label=0)\n",
        "    recall_probas[i] = sklearn.metrics.recall_score(matrix2022['CENTRO'], YCentPredict, pos_label=0)\n",
        "    f1_probas[i] = sklearn.metrics.f1_score(matrix2022['CENTRO'], YCentPredict, pos_label=0)\n",
        "\n",
        "plt.plot(recall_probas, precision_probas, '-o', c='green', label='Centro')\n",
        "\n",
        "n_probas = 100\n",
        "probas_cut_alto = np.linspace(0.0,1.0,n_probas)\n",
        "precision_probas = np.ones(n_probas)\n",
        "recall_probas = np.ones(n_probas)\n",
        "f1_probas = np.ones(n_probas)\n",
        "\n",
        "for i in range(n_probas):\n",
        "    ii = probaCentDer[:,0] > probas_cut_alto[i]\n",
        "    YCentIzqPredict[ii] = 0\n",
        "    YCentIzqPredict[~ii] = 1\n",
        "    precision_probas[i] = sklearn.metrics.precision_score(matrix2022['CENTRO-DERECHA'], YCentDerPredict, pos_label=0)\n",
        "    recall_probas[i] = sklearn.metrics.recall_score(matrix2022['CENTRO-DERECHA'], YCentDerPredict, pos_label=0)\n",
        "    f1_probas[i] = sklearn.metrics.f1_score(matrix2022['CENTRO-DERECHA'], YCentDerPredict, pos_label=0)\n",
        "\n",
        "plt.plot(recall_probas, precision_probas, '-o', c='cyan', label='Centro Derecha')\n",
        "\n",
        "n_probas = 100\n",
        "probas_cut_alto = np.linspace(0.0,1.0,n_probas)\n",
        "precision_probas = np.ones(n_probas)\n",
        "recall_probas = np.ones(n_probas)\n",
        "f1_probas = np.ones(n_probas)\n",
        "\n",
        "for i in range(n_probas):\n",
        "    ii = probaDer[:,0] > probas_cut_alto[i]\n",
        "    YDerPredict[ii] = 0\n",
        "    YDerPredict[~ii] = 1\n",
        "    precision_probas[i] = sklearn.metrics.precision_score(matrix2022['DERECHA'], YDerPredict, pos_label=0)\n",
        "    recall_probas[i] = sklearn.metrics.recall_score(matrix2022['DERECHA'], YDerPredict, pos_label=0)\n",
        "    f1_probas[i] = sklearn.metrics.f1_score(matrix2022['DERECHA'], YDerPredict, pos_label=0)\n",
        "\n",
        "plt.plot(recall_probas, precision_probas, '-o', c='blue', label='Derecha')\n",
        "\n",
        "plt.grid()\n",
        "plt.legend()\n",
        "plt.xlabel('Límite de probabilidad')\n",
        "plt.ylabel('Precisión')"
      ],
      "metadata": {
        "id": "VrNhCgek7o2N"
      },
      "execution_count": null,
      "outputs": []
    },
    {
      "cell_type": "markdown",
      "source": [
        "Se define ahora la función que se utilizará para crear las matrices de confusión"
      ],
      "metadata": {
        "id": "QgGYBHuR-1kR"
      }
    },
    {
      "cell_type": "code",
      "source": [
        "def CM(Y_true, Y_pred, classes):\n",
        "  fig = plt.figure(figsize=(10, 10))\n",
        "  cm = sklearn.metrics.confusion_matrix(Y_true, Y_pred)\n",
        "  lclasses = np.arange(0,classes)\n",
        "  cm = cm.astype('float') / cm.sum(axis=1)[:, np.newaxis]\n",
        "  cmap=plt.cm.Blues\n",
        "  ax = fig.add_subplot(1,1,1)\n",
        "  im = ax.imshow(cm, interpolation='nearest', cmap=cmap)\n",
        "  ax.figure.colorbar(im, ax=ax, pad=0.01, shrink=0.86)\n",
        "  ax.set(xticks=np.arange(cm.shape[1]), yticks=np.arange(cm.shape[0]),xticklabels=lclasses, yticklabels=lclasses)\n",
        "  ax.set_xlabel(\"Predicted\",size=20)\n",
        "  ax.set_ylabel(\"True\",size=20)\n",
        "  ax.set_ylim(classes-0.5, -0.5)\n",
        "\n",
        "  plt.setp(ax.get_xticklabels(), size=12)\n",
        "  plt.setp(ax.get_yticklabels(), size=12)\n",
        "\n",
        "  fmt = '.2f'\n",
        "  thresh = cm.max()/2.\n",
        "  for i in range(cm.shape[0]):\n",
        "      for j in range(cm.shape[1]):\n",
        "          ax.text(j, i, format(cm[i, j], fmt),ha=\"center\", va=\"center\",size=15 , color=\"white\" if cm[i, j] > thresh else \"black\")\n",
        "\n",
        "  return fig"
      ],
      "metadata": {
        "id": "W6ZJJxZjsJRH"
      },
      "execution_count": null,
      "outputs": []
    },
    {
      "cell_type": "markdown",
      "source": [
        "Y se crean 5 matrices, una para cada modelo para cada ideología"
      ],
      "metadata": {
        "id": "Te3CcYYv-6nk"
      }
    },
    {
      "cell_type": "code",
      "source": [
        "CM(matrix2022['IZQUIERDA'], YIzqPredict, 2).savefig('drive/MyDrive/Proyecto2_CienciaDatos/images/CMIzq.svg', dpi=200)\n",
        "CM(matrix2022['CENTRO-IZQUIERDA'], YCentIzqPredict, 2).savefig('drive/MyDrive/Proyecto2_CienciaDatos/images/CMCentIzq.svg', dpi=200)\n",
        "CM(matrix2022['CENTRO'], YCentPredict, 2).savefig('drive/MyDrive/Proyecto2_CienciaDatos/images/CMCent.svg', dpi=200)\n",
        "CM(matrix2022['CENTRO-DERECHA'], YCentDerPredict, 2).savefig('drive/MyDrive/Proyecto2_CienciaDatos/images/CMCentDer.svg', dpi=200)\n",
        "CM(matrix2022['DERECHA'], YDerPredict, 2).savefig('drive/MyDrive/Proyecto2_CienciaDatos/images/CMDer.svg', dpi=200)"
      ],
      "metadata": {
        "id": "ky0_MoXqX5Ht"
      },
      "execution_count": null,
      "outputs": []
    },
    {
      "cell_type": "markdown",
      "source": [
        "Se hace ahora un histograma que muestra la evolución del indicador en general y en el país y a través de los años"
      ],
      "metadata": {
        "id": "UZZXzkCclNWG"
      }
    },
    {
      "cell_type": "code",
      "source": [
        "plt.hist(X['CoberturaSuperior'], bins=12, density=True)\n",
        "plt.axvline(x=np.mean(datos2010['CoberturaSuperior']), c='k', label='2010')\n",
        "plt.axvline(x=np.mean(datos2014['CoberturaSuperior']), c='r', label='2014')\n",
        "plt.axvline(x=np.mean(datos2018['CoberturaSuperior']), c='orange', label='2018')\n",
        "plt.axvline(x=np.mean(datos2022['CoberturaSuperior']), c='brown', label='2022')\n",
        "\n",
        "plt.legend()\n",
        "plt.xlabel('Cobertura de Educación Superior')\n",
        "plt.ylabel('Frecuencia acumulada')\n",
        "plt.savefig('drive/MyDrive/Proyecto2_CienciaDatos/images/HistCoverturaSuperior.svg', dpi=200)"
      ],
      "metadata": {
        "colab": {
          "base_uri": "https://localhost:8080/",
          "height": 280
        },
        "outputId": "9fd3b661-b7a7-4a26-8762-0df5b0a41093",
        "id": "Xk86hDRfrqse"
      },
      "execution_count": null,
      "outputs": [
        {
          "output_type": "display_data",
          "data": {
            "text/plain": [
              "<Figure size 432x288 with 1 Axes>"
            ],
            "image/png": "[encoded data removed]"
          },
          "metadata": {
            "needs_background": "light"
          }
        }
      ]
    },
    {
      "cell_type": "code",
      "source": [
        "plt.hist(X['RiesgoElectoral'], bins=12, density=True)\n",
        "plt.axvline(x=np.mean(datos2010['RiesgoElectoral']), c='k', label='2010')\n",
        "plt.axvline(x=np.mean(datos2014['RiesgoElectoral']), c='r', label='2014')\n",
        "plt.axvline(x=np.mean(datos2018['RiesgoElectoral']), c='orange', label='2018')\n",
        "plt.axvline(x=np.mean(datos2022['RiesgoElectoral']), c='brown', label='2022')\n",
        "\n",
        "plt.legend()\n",
        "plt.xlabel('Riesgo de Violencia Electoral')\n",
        "plt.ylabel('Frecuencia acumulada')\n",
        "plt.savefig('drive/MyDrive/Proyecto2_CienciaDatos/images/HistRiesgoElectoral.svg', dpi=200)"
      ],
      "metadata": {
        "colab": {
          "base_uri": "https://localhost:8080/",
          "height": 279
        },
        "id": "U-V5g1Q1w7xe",
        "outputId": "d0c99492-1924-43a9-99fa-e07dcf3d3b4e"
      },
      "execution_count": null,
      "outputs": [
        {
          "output_type": "display_data",
          "data": {
            "text/plain": [
              "<Figure size 432x288 with 1 Axes>"
            ],
            "image/png": "[encoded data removed]"
          },
          "metadata": {
            "needs_background": "light"
          }
        }
      ]
    },
    {
      "cell_type": "code",
      "source": [
        "plt.hist(X['FortalezaEconomica'], bins=12, density=True)\n",
        "plt.axvline(x=np.mean(datos2010['FortalezaEconomica']), c='k', label='2010')\n",
        "plt.axvline(x=np.mean(datos2014['FortalezaEconomica']), c='r', label='2014')\n",
        "plt.axvline(x=np.mean(datos2018['FortalezaEconomica']), c='orange', label='2018')\n",
        "plt.axvline(x=np.mean(datos2022['FortalezaEconomica']), c='brown', label='2022')\n",
        "\n",
        "plt.legend()\n",
        "plt.xlabel('Fortaleza Economica del Departamento')\n",
        "plt.ylabel('Frecuencia acumulada')\n",
        "plt.savefig('drive/MyDrive/Proyecto2_CienciaDatos/images/HistFortalezaEconomica.svg', dpi=200)"
      ],
      "metadata": {
        "colab": {
          "base_uri": "https://localhost:8080/",
          "height": 279
        },
        "id": "F2PrcMQIzKor",
        "outputId": "a7aca823-c9b5-4597-8631-9de9599c3623"
      },
      "execution_count": null,
      "outputs": [
        {
          "output_type": "display_data",
          "data": {
            "text/plain": [
              "<Figure size 432x288 with 1 Axes>"
            ],
            "image/png": "[encoded data removed]"
          },
          "metadata": {
            "needs_background": "light"
          }
        }
      ]
    },
    {
      "cell_type": "code",
      "source": [
        "plt.hist(X['Infraestructura'], bins=12, density=True)\n",
        "plt.axvline(x=np.mean(datos2010['Infraestructura']), c='k', label='2010')\n",
        "plt.axvline(x=np.mean(datos2014['Infraestructura']), c='r', label='2014')\n",
        "plt.axvline(x=np.mean(datos2018['Infraestructura']), c='orange', label='2018')\n",
        "plt.axvline(x=np.mean(datos2022['Infraestructura']), c='brown', label='2022')\n",
        "\n",
        "plt.legend()\n",
        "plt.xlabel('Avance en Infraestructura')\n",
        "plt.ylabel('Frecuencia acumulada')\n",
        "plt.savefig('drive/MyDrive/Proyecto2_CienciaDatos/images/HistInfraestructura.svg', dpi=200)"
      ],
      "metadata": {
        "colab": {
          "base_uri": "https://localhost:8080/",
          "height": 279
        },
        "id": "gQ9eJT6uzZIk",
        "outputId": "405abce2-5b45-41bc-f9a7-bea30f49f30d"
      },
      "execution_count": null,
      "outputs": [
        {
          "output_type": "display_data",
          "data": {
            "text/plain": [
              "<Figure size 432x288 with 1 Axes>"
            ],
            "image/png": "[encoded data removed]"
          },
          "metadata": {
            "needs_background": "light"
          }
        }
      ]
    },
    {
      "cell_type": "code",
      "source": [
        "plt.hist(X['CapitalHumano'], bins=12, density=True)\n",
        "plt.axvline(x=np.mean(datos2010['CapitalHumano']), c='k', label='2010')\n",
        "plt.axvline(x=np.mean(datos2014['CapitalHumano']), c='r', label='2014')\n",
        "plt.axvline(x=np.mean(datos2018['CapitalHumano']), c='orange', label='2018')\n",
        "plt.axvline(x=np.mean(datos2022['CapitalHumano']), c='brown', label='2022')\n",
        "\n",
        "plt.legend()\n",
        "plt.xlabel('Capital Económico Humano')\n",
        "plt.ylabel('Frecuencia acumulada')\n",
        "plt.savefig('drive/MyDrive/Proyecto2_CienciaDatos/images/HistCapitalHumano.svg', dpi=200)"
      ],
      "metadata": {
        "colab": {
          "base_uri": "https://localhost:8080/",
          "height": 284
        },
        "id": "uSc7tEbVzkkM",
        "outputId": "7b36c85c-9d07-423a-b7e6-ba647020b76b"
      },
      "execution_count": null,
      "outputs": [
        {
          "output_type": "display_data",
          "data": {
            "text/plain": [
              "<Figure size 432x288 with 1 Axes>"
            ],
            "image/png": "[encoded data removed]"
          },
          "metadata": {
            "needs_background": "light"
          }
        }
      ]
    },
    {
      "cell_type": "code",
      "source": [
        "matrix2010 = pd.read_csv('drive/MyDrive/Proyecto2_CienciaDatos/dataNorm2010.csv')\n",
        "matrix2014 = pd.read_csv('drive/MyDrive/Proyecto2_CienciaDatos/dataNorm2014.csv')\n",
        "matrix2018 = pd.read_csv('drive/MyDrive/Proyecto2_CienciaDatos/dataNorm2018.csv')\n",
        "matrix2022 = pd.read_csv('drive/MyDrive/Proyecto2_CienciaDatos/dataNorm2022.csv')\n",
        "\n",
        "matrix2010 = matrix2010.set_index(['DPTOS'])\n",
        "matrix2014 = matrix2014.set_index(['DPTOS'])\n",
        "matrix2018 = matrix2018.set_index(['DPTOS'])\n",
        "matrix2022 = matrix2022.set_index(['DPTOS'])\n",
        "\n",
        "matrixTotal = pd.concat([matrix2010.loc[['TOTAL']], matrix2014.loc[['TOTAL']],\n",
        "                         matrix2018.loc[['TOTAL']], matrix2022.loc[['TOTAL']]], axis=0)"
      ],
      "metadata": {
        "id": "Mrc928bL0Iem"
      },
      "execution_count": null,
      "outputs": []
    },
    {
      "cell_type": "markdown",
      "source": [
        "Mostramos ahora la trayectoria de cada ideología en el país a través de las 4 elecciones"
      ],
      "metadata": {
        "id": "UY7Y_bEPlZxC"
      }
    },
    {
      "cell_type": "code",
      "source": [
        "years = [2010,2014,2018,2022]\n",
        "\n",
        "plt.plot(years, matrixTotal['IZQUIERDA'], '-o', c='red', label='Izquierda')\n",
        "plt.plot(years, matrixTotal['CENTRO-IZQUIERDA'], '-o', c='orange', label='Centro Izquierda')\n",
        "plt.plot(years, matrixTotal['CENTRO'], '-o', c='green', label='Centro')\n",
        "plt.plot(years, matrixTotal['CENTRO-DERECHA'], '-o', c='cyan', label='Centro Derecha')\n",
        "plt.plot(years, matrixTotal['DERECHA'], '-o', c='blue', label='Derecha')\n",
        "\n",
        "plt.grid()\n",
        "plt.legend()\n",
        "plt.xlabel('Años')\n",
        "plt.ylabel('Porcentaje de votos')\n",
        "plt.savefig('drive/MyDrive/Proyecto2_CienciaDatos/images/YearsVsAll.svg', dpi=200)"
      ],
      "metadata": {
        "colab": {
          "base_uri": "https://localhost:8080/",
          "height": 279
        },
        "id": "QBtFuKuS0JCF",
        "outputId": "5b0fbbea-8a33-4d87-dc7a-9a28b2e422ee"
      },
      "execution_count": null,
      "outputs": [
        {
          "output_type": "display_data",
          "data": {
            "text/plain": [
              "<Figure size 432x288 with 1 Axes>"
            ],
            "image/png": "[encoded data removed]"
          },
          "metadata": {
            "needs_background": "light"
          }
        }
      ]
    },
    {
      "cell_type": "code",
      "source": [
        "plt.plot(years, matrixTotal['IZQUIERDA'], '-o', c='red', label='Izquierda')\n",
        "\n",
        "plt.grid()\n",
        "plt.legend()\n",
        "plt.xlabel('Años')\n",
        "plt.ylabel('Porcentaje de votos')\n",
        "plt.savefig('drive/MyDrive/Proyecto2_CienciaDatos/images/YearsVsIzq.svg', dpi=200)"
      ],
      "metadata": {
        "colab": {
          "base_uri": "https://localhost:8080/",
          "height": 279
        },
        "id": "VbAsgt_A0ele",
        "outputId": "4be2ac61-9991-4b21-9c76-e470d55dda5c"
      },
      "execution_count": null,
      "outputs": [
        {
          "output_type": "display_data",
          "data": {
            "text/plain": [
              "<Figure size 432x288 with 1 Axes>"
            ],
            "image/png": "[encoded data removed]"
          },
          "metadata": {
            "needs_background": "light"
          }
        }
      ]
    },
    {
      "cell_type": "code",
      "source": [
        "plt.plot(years, matrixTotal['CENTRO-IZQUIERDA'], '-o', c='orange', label='Centro Izquierda')\n",
        "\n",
        "plt.grid()\n",
        "plt.legend()\n",
        "plt.xlabel('Años')\n",
        "plt.ylabel('Porcentaje de votos')\n",
        "plt.savefig('drive/MyDrive/Proyecto2_CienciaDatos/images/YearsVsCentIzq.svg', dpi=200)"
      ],
      "metadata": {
        "colab": {
          "base_uri": "https://localhost:8080/",
          "height": 281
        },
        "id": "5qgAqszU3XY-",
        "outputId": "a6efe867-9531-4413-a800-36f762921f89"
      },
      "execution_count": null,
      "outputs": [
        {
          "output_type": "display_data",
          "data": {
            "text/plain": [
              "<Figure size 432x288 with 1 Axes>"
            ],
            "image/png": "[encoded data removed]"
          },
          "metadata": {
            "needs_background": "light"
          }
        }
      ]
    },
    {
      "cell_type": "code",
      "source": [
        "plt.plot(years, matrixTotal['CENTRO'], '-o', c='green', label='Centro')\n",
        "plt.grid()\n",
        "plt.legend()\n",
        "plt.xlabel('Años')\n",
        "plt.ylabel('Porcentaje de votos')\n",
        "plt.savefig('drive/MyDrive/Proyecto2_CienciaDatos/images/YearsVsCent.svg', dpi=200)"
      ],
      "metadata": {
        "colab": {
          "base_uri": "https://localhost:8080/",
          "height": 279
        },
        "id": "eSjjuVVJ3lco",
        "outputId": "38805ea3-0703-4cf8-8ca9-6a83ee86040e"
      },
      "execution_count": null,
      "outputs": [
        {
          "output_type": "display_data",
          "data": {
            "text/plain": [
              "<Figure size 432x288 with 1 Axes>"
            ],
            "image/png": "[encoded data removed]"
          },
          "metadata": {
            "needs_background": "light"
          }
        }
      ]
    },
    {
      "cell_type": "code",
      "source": [
        "plt.plot(years, matrixTotal['CENTRO-DERECHA'], '-o', c='cyan', label='Centro Derecha')\n",
        "\n",
        "plt.grid()\n",
        "plt.legend()\n",
        "plt.xlabel('Años')\n",
        "plt.ylabel('Porcentaje de votos')\n",
        "plt.savefig('drive/MyDrive/Proyecto2_CienciaDatos/images/YearsVsCentDer.svg', dpi=200)"
      ],
      "metadata": {
        "colab": {
          "base_uri": "https://localhost:8080/",
          "height": 279
        },
        "id": "pT1ywHIy3q_D",
        "outputId": "02b47727-cf50-45ad-e768-4aa0db928d6b"
      },
      "execution_count": null,
      "outputs": [
        {
          "output_type": "display_data",
          "data": {
            "text/plain": [
              "<Figure size 432x288 with 1 Axes>"
            ],
            "image/png": "[encoded data removed]"
          },
          "metadata": {
            "needs_background": "light"
          }
        }
      ]
    },
    {
      "cell_type": "code",
      "source": [
        "plt.plot(years, matrixTotal['DERECHA'], '-o', c='blue', label='Derecha')\n",
        "\n",
        "plt.grid()\n",
        "plt.legend()\n",
        "plt.xlabel('Años')\n",
        "plt.ylabel('Porcentaje de votos')\n",
        "plt.savefig('drive/MyDrive/Proyecto2_CienciaDatos/images/YearsVsDer.svg', dpi=200)"
      ],
      "metadata": {
        "colab": {
          "base_uri": "https://localhost:8080/",
          "height": 280
        },
        "id": "Q7q3U1qX30j1",
        "outputId": "dfd52af4-be1b-4d81-ad4d-633b2b3538e7"
      },
      "execution_count": null,
      "outputs": [
        {
          "output_type": "display_data",
          "data": {
            "text/plain": [
              "<Figure size 432x288 with 1 Axes>"
            ],
            "image/png": "[encoded data removed]"
          },
          "metadata": {
            "needs_background": "light"
          }
        }
      ]
    }
  ]
}